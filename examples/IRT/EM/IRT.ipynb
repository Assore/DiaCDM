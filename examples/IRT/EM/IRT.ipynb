{
 "cells": [
  {
   "cell_type": "markdown",
   "metadata": {},
   "source": [
    "# Item Response Theory with Expectation Maximization Optimization (EMIRT)\n",
    "\n",
    "This notebook will show you how to train and use the EMIRT.\n",
    "First, we will show how to get the data (here we use a0910 as the dataset).\n",
    "Then we will show how to train a EMIRT and perform the parameters persistence.\n",
    "At last, we will show how to load the parameters from the file and evaluate on the test dataset.\n",
    "\n",
    "The script version could be found in [IRT.py](IRT.py)"
   ]
  },
  {
   "cell_type": "code",
   "metadata": {
    "jupyter": {
     "is_executing": true
    }
   },
   "source": [
    "# Load the data from files\n",
    "import pandas as pd\n",
    "\n",
    "train_data = pd.read_csv(\"../../../data/a0910/train.csv\")\n",
    "valid_data = pd.read_csv(\"../../../data/a0910/valid.csv\")\n",
    "test_data = pd.read_csv(\"../../../data/a0910/test.csv\")\n",
    "\n",
    "train_data.head(5)"
   ],
   "outputs": [],
   "execution_count": null
  },
  {
   "cell_type": "code",
   "metadata": {
    "ExecuteTime": {
     "end_time": "2024-11-20T12:29:15.250890Z",
     "start_time": "2024-11-20T12:29:15.231888Z"
    }
   },
   "source": [
    "len(train_data), len(valid_data), len(test_data)"
   ],
   "outputs": [
    {
     "data": {
      "text/plain": [
       "(186049, 25606, 55760)"
      ]
     },
     "execution_count": 3,
     "metadata": {},
     "output_type": "execute_result"
    }
   ],
   "execution_count": 3
  },
  {
   "cell_type": "code",
   "metadata": {
    "ExecuteTime": {
     "end_time": "2024-11-20T12:29:18.511018Z",
     "start_time": "2024-11-20T12:29:18.470015Z"
    }
   },
   "source": [
    "stu_num = max(max(train_data['user_id']), max(test_data['user_id']))\n",
    "prob_num = max(max(train_data['item_id']), max(test_data['item_id']))\n",
    "print(stu_num, prob_num)"
   ],
   "outputs": [
    {
     "name": "stdout",
     "output_type": "stream",
     "text": [
      "4128 17746\n"
     ]
    }
   ],
   "execution_count": 4
  },
  {
   "cell_type": "code",
   "metadata": {
    "ExecuteTime": {
     "end_time": "2024-11-20T12:29:23.009188Z",
     "start_time": "2024-11-20T12:29:20.687876Z"
    }
   },
   "source": [
    "import numpy as np\n",
    "R = -1 * np.ones(shape=(stu_num, prob_num))\n",
    "R[train_data['user_id']-1, train_data['item_id']-1] = train_data['score']\n",
    "\n",
    "test_set = []\n",
    "for i in range(len(test_data)):\n",
    "    row = test_data.iloc[i]\n",
    "    test_set.append({'user_id':int(row['user_id'])-1, 'item_id':int(row['item_id'])-1, 'score':row['score']})"
   ],
   "outputs": [],
   "execution_count": 5
  },
  {
   "cell_type": "markdown",
   "metadata": {},
   "source": [
    "## Training and Persistence"
   ]
  },
  {
   "cell_type": "code",
   "metadata": {
    "ExecuteTime": {
     "end_time": "2024-11-20T12:18:21.714835Z",
     "start_time": "2024-11-20T12:18:21.699473Z"
    }
   },
   "source": [
    "import logging\n",
    "logging.getLogger().setLevel(logging.INFO)"
   ],
   "outputs": [],
   "execution_count": 5
  },
  {
   "cell_type": "code",
   "metadata": {
    "ExecuteTime": {
     "end_time": "2024-11-20T12:31:29.273426Z",
     "start_time": "2024-11-20T12:31:29.178441Z"
    }
   },
   "source": [
    "from EduCDM import EMIRT\n",
    "\n",
    "cdm = EMIRT(R, stu_num, prob_num, dim=1, skip_value=-1)\n",
    "\n",
    "cdm.train(lr=1e-3, epoch=2)\n",
    "cdm.save(\"irt.params\")"
   ],
   "outputs": [
    {
     "ename": "MemoryError",
     "evalue": "Unable to allocate 559. MiB for an array with shape (17746, 4128) and data type float64",
     "output_type": "error",
     "traceback": [
      "\u001B[1;31m---------------------------------------------------------------------------\u001B[0m",
      "\u001B[1;31mMemoryError\u001B[0m                               Traceback (most recent call last)",
      "Cell \u001B[1;32mIn[8], line 5\u001B[0m\n\u001B[0;32m      1\u001B[0m \u001B[38;5;28;01mfrom\u001B[39;00m \u001B[38;5;21;01mEduCDM\u001B[39;00m \u001B[38;5;28;01mimport\u001B[39;00m EMIRT\n\u001B[0;32m      3\u001B[0m cdm \u001B[38;5;241m=\u001B[39m EMIRT(R, stu_num, prob_num, dim\u001B[38;5;241m=\u001B[39m\u001B[38;5;241m1\u001B[39m, skip_value\u001B[38;5;241m=\u001B[39m\u001B[38;5;241m-\u001B[39m\u001B[38;5;241m1\u001B[39m)\n\u001B[1;32m----> 5\u001B[0m \u001B[43mcdm\u001B[49m\u001B[38;5;241;43m.\u001B[39;49m\u001B[43mtrain\u001B[49m\u001B[43m(\u001B[49m\u001B[43mlr\u001B[49m\u001B[38;5;241;43m=\u001B[39;49m\u001B[38;5;241;43m1e-3\u001B[39;49m\u001B[43m,\u001B[49m\u001B[43m \u001B[49m\u001B[43mepoch\u001B[49m\u001B[38;5;241;43m=\u001B[39;49m\u001B[38;5;241;43m2\u001B[39;49m\u001B[43m)\u001B[49m\n\u001B[0;32m      6\u001B[0m cdm\u001B[38;5;241m.\u001B[39msave(\u001B[38;5;124m\"\u001B[39m\u001B[38;5;124mirt.params\u001B[39m\u001B[38;5;124m\"\u001B[39m)\n",
      "File \u001B[1;32mD:\\Study\\codes\\EduCDM-main\\EduCDM-main\\EduCDM\\IRT\\EM\\IRT.py:95\u001B[0m, in \u001B[0;36mIRT.train\u001B[1;34m(self, lr, epoch, epoch_m, epsilon)\u001B[0m\n\u001B[0;32m     93\u001B[0m \u001B[38;5;28;01mfor\u001B[39;00m iteration \u001B[38;5;129;01min\u001B[39;00m \u001B[38;5;28mrange\u001B[39m(epoch):\n\u001B[0;32m     94\u001B[0m     a_tmp, b_tmp, c_tmp, prior_dis_tmp \u001B[38;5;241m=\u001B[39m np\u001B[38;5;241m.\u001B[39mcopy(a), np\u001B[38;5;241m.\u001B[39mcopy(b), np\u001B[38;5;241m.\u001B[39mcopy(c), np\u001B[38;5;241m.\u001B[39mcopy(prior_dis)\n\u001B[1;32m---> 95\u001B[0m     prof_prob_like, prof_stu_like \u001B[38;5;241m=\u001B[39m \u001B[43mget_Likelihood\u001B[49m\u001B[43m(\u001B[49m\u001B[43ma\u001B[49m\u001B[43m,\u001B[49m\u001B[43m \u001B[49m\u001B[43mb\u001B[49m\u001B[43m,\u001B[49m\u001B[43m \u001B[49m\u001B[43mc\u001B[49m\u001B[43m,\u001B[49m\u001B[43m \u001B[49m\u001B[38;5;28;43mself\u001B[39;49m\u001B[38;5;241;43m.\u001B[39;49m\u001B[43mprof\u001B[49m\u001B[43m,\u001B[49m\u001B[43m \u001B[49m\u001B[38;5;28;43mself\u001B[39;49m\u001B[38;5;241;43m.\u001B[39;49m\u001B[43mR\u001B[49m\u001B[43m)\u001B[49m\n\u001B[0;32m     96\u001B[0m     prior_dis, norm_dis_like \u001B[38;5;241m=\u001B[39m update_prior(prior_dis, prof_stu_like)\n\u001B[0;32m     98\u001B[0m     r_1 \u001B[38;5;241m=\u001B[39m np\u001B[38;5;241m.\u001B[39mzeros(shape\u001B[38;5;241m=\u001B[39m(\u001B[38;5;28mself\u001B[39m\u001B[38;5;241m.\u001B[39mstu_num, \u001B[38;5;28mself\u001B[39m\u001B[38;5;241m.\u001B[39mprob_num))\n",
      "File \u001B[1;32mD:\\Study\\codes\\EduCDM-main\\EduCDM-main\\EduCDM\\IRT\\EM\\IRT.py:30\u001B[0m, in \u001B[0;36mget_Likelihood\u001B[1;34m(a, b, c, prof, R)\u001B[0m\n\u001B[0;32m     28\u001B[0m stu_num, prob_num \u001B[38;5;241m=\u001B[39m R\u001B[38;5;241m.\u001B[39mshape[\u001B[38;5;241m0\u001B[39m], R\u001B[38;5;241m.\u001B[39mshape[\u001B[38;5;241m1\u001B[39m]\n\u001B[0;32m     29\u001B[0m prof_prob \u001B[38;5;241m=\u001B[39m irt3pl(np\u001B[38;5;241m.\u001B[39msum(a \u001B[38;5;241m*\u001B[39m (np\u001B[38;5;241m.\u001B[39mexpand_dims(prof, axis\u001B[38;5;241m=\u001B[39m\u001B[38;5;241m1\u001B[39m) \u001B[38;5;241m-\u001B[39m b), axis\u001B[38;5;241m=\u001B[39m\u001B[38;5;241m-\u001B[39m\u001B[38;5;241m1\u001B[39m), \u001B[38;5;241m1\u001B[39m, \u001B[38;5;241m0\u001B[39m, c)  \u001B[38;5;66;03m# shape = (100, prob_num)\u001B[39;00m\n\u001B[1;32m---> 30\u001B[0m tmp1, tmp2 \u001B[38;5;241m=\u001B[39m np\u001B[38;5;241m.\u001B[39mzeros(shape\u001B[38;5;241m=\u001B[39m(prob_num, stu_num)), \u001B[43mnp\u001B[49m\u001B[38;5;241;43m.\u001B[39;49m\u001B[43mzeros\u001B[49m\u001B[43m(\u001B[49m\u001B[43mshape\u001B[49m\u001B[38;5;241;43m=\u001B[39;49m\u001B[43m(\u001B[49m\u001B[43mprob_num\u001B[49m\u001B[43m,\u001B[49m\u001B[43m \u001B[49m\u001B[43mstu_num\u001B[49m\u001B[43m)\u001B[49m\u001B[43m)\u001B[49m\n\u001B[0;32m     31\u001B[0m tmp1[np\u001B[38;5;241m.\u001B[39mwhere(R \u001B[38;5;241m==\u001B[39m \u001B[38;5;241m1\u001B[39m)[\u001B[38;5;241m1\u001B[39m], np\u001B[38;5;241m.\u001B[39mwhere(R \u001B[38;5;241m==\u001B[39m \u001B[38;5;241m1\u001B[39m)[\u001B[38;5;241m0\u001B[39m]] \u001B[38;5;241m=\u001B[39m \u001B[38;5;241m1\u001B[39m\n\u001B[0;32m     32\u001B[0m tmp2[np\u001B[38;5;241m.\u001B[39mwhere(R \u001B[38;5;241m==\u001B[39m \u001B[38;5;241m0\u001B[39m)[\u001B[38;5;241m1\u001B[39m], np\u001B[38;5;241m.\u001B[39mwhere(R \u001B[38;5;241m==\u001B[39m \u001B[38;5;241m0\u001B[39m)[\u001B[38;5;241m0\u001B[39m]] \u001B[38;5;241m=\u001B[39m \u001B[38;5;241m1\u001B[39m\n",
      "\u001B[1;31mMemoryError\u001B[0m: Unable to allocate 559. MiB for an array with shape (17746, 4128) and data type float64"
     ]
    }
   ],
   "execution_count": 8
  },
  {
   "cell_type": "markdown",
   "metadata": {},
   "source": [
    "## Loading and Testing"
   ]
  },
  {
   "cell_type": "code",
   "metadata": {
    "ExecuteTime": {
     "end_time": "2024-11-20T12:26:05.976148Z",
     "start_time": "2024-11-20T12:26:04.144951Z"
    }
   },
   "source": [
    "cdm.load(\"irt.params\")\n",
    "rmse, mae = cdm.eval(test_set)\n",
    "print(\"RMSE, MAE are %.6f, %.6f\" % (rmse, mae))"
   ],
   "outputs": [
    {
     "name": "stderr",
     "output_type": "stream",
     "text": [
      "evaluating: 100%|██████████| 55760/55760 [00:00<00:00, 774400.56it/s]"
     ]
    },
    {
     "name": "stdout",
     "output_type": "stream",
     "text": [
      "RMSE, MAE are 0.453045, 0.384567\n"
     ]
    },
    {
     "name": "stderr",
     "output_type": "stream",
     "text": [
      "\n"
     ]
    }
   ],
   "execution_count": 5
  },
  {
   "cell_type": "markdown",
   "metadata": {},
   "source": [
    "## Incremental Training"
   ]
  },
  {
   "cell_type": "code",
   "execution_count": 8,
   "metadata": {},
   "outputs": [],
   "source": [
    "new_data = [{'user_id': 0, 'item_id': 2, 'score': 0.0}, {'user_id': 1, 'item_id': 1, 'score': 1.0}]\n",
    "cdm.inc_train(new_data, lr=1e-3, epoch=2)"
   ]
  },
  {
   "cell_type": "markdown",
   "metadata": {},
   "source": [
    "## Evaluate User's State"
   ]
  },
  {
   "cell_type": "code",
   "execution_count": 9,
   "metadata": {},
   "outputs": [
    {
     "name": "stdout",
     "output_type": "stream",
     "text": [
      "user's state is [[73.94697385]]\n"
     ]
    }
   ],
   "source": [
    "stu_rec = np.random.randint(-1, 2, size=prob_num)\n",
    "dia_state = cdm.transform(stu_rec)  # shape = (stu_num, dim)\n",
    "print(\"user's state is \" + str(dia_state))"
   ]
  },
  {
   "cell_type": "code",
   "execution_count": null,
   "metadata": {},
   "outputs": [],
   "source": []
  }
 ],
 "metadata": {
  "kernelspec": {
   "display_name": "Python 3",
   "language": "python",
   "name": "python3"
  },
  "language_info": {
   "codemirror_mode": {
    "name": "ipython",
    "version": 3
   },
   "file_extension": ".py",
   "mimetype": "text/x-python",
   "name": "python",
   "nbconvert_exporter": "python",
   "pygments_lexer": "ipython3",
   "version": "3.7.3"
  }
 },
 "nbformat": 4,
 "nbformat_minor": 2
}
